{
 "cells": [
  {
   "cell_type": "code",
   "execution_count": 736,
   "id": "f5db1954-50c2-4535-b23c-6959d7e4261d",
   "metadata": {},
   "outputs": [],
   "source": [
    "#Import dependencies\n",
    "from pathlib import Path\n",
    "import csv"
   ]
  },
  {
   "cell_type": "code",
   "execution_count": 737,
   "id": "8b681855-bccc-4d19-937b-411e8d015b85",
   "metadata": {},
   "outputs": [
    {
     "name": "stdout",
     "output_type": "stream",
     "text": [
      "Current Working Directory: C:\\Users\\T\\Bootcamp\\Repositories\\python-homework\\PyBank\n"
     ]
    }
   ],
   "source": [
    "#View the current working directory\n",
    "print(f\"Current Working Directory: {Path.cwd()}\")"
   ]
  },
  {
   "cell_type": "code",
   "execution_count": 738,
   "id": "c71ecf9a-e4bb-40e2-90df-a0e67279e7eb",
   "metadata": {},
   "outputs": [],
   "source": [
    "#Declare the location of the csv files and chenge all backslashes to forward slashes in the file path\n",
    "filepath = str(Path.cwd())\n",
    "filepath = filepath.replace(\"\\\\\",\"/\") + '/budget_data.csv'"
   ]
  },
  {
   "cell_type": "code",
   "execution_count": 739,
   "id": "5777b203-6c3f-4000-b502-fd066010c181",
   "metadata": {},
   "outputs": [],
   "source": [
    "#Create empty lists\n",
    "months = []\n",
    "profits = []\n",
    "profit_changes = []"
   ]
  },
  {
   "cell_type": "code",
   "execution_count": 740,
   "id": "3ca4e407-5ecb-4b33-adac-4be68d37c308",
   "metadata": {},
   "outputs": [],
   "source": [
    "#Declare the variables\n",
    "total_months = 0\n",
    "total_profit = 0\n",
    "average_change = 0\n",
    "total_change = 0"
   ]
  },
  {
   "cell_type": "code",
   "execution_count": 741,
   "id": "cf288926-00e2-4254-b585-47c9fa3b0a06",
   "metadata": {},
   "outputs": [],
   "source": [
    "#Open csv file in read mode\n",
    "with open (filepath, 'r') as file:\n",
    "    reader = csv.reader(file, delimiter=',')\n",
    "    header = next(reader)\n",
    "    \n",
    "    #Iterate through the rows in the csv file and append the months from the first column to the Months list and the profits from the second column to the Profits list\n",
    "    for row in reader:\n",
    "        months.append(row[0])\n",
    "        profits.append(int(row[1]))\n",
    "        \n",
    "        #Count the number of entries in the Months list to get the number of months\n",
    "        total_months = len(months)\n",
    "        \n",
    "        #Sum up all the entries in the Profits list to get the net total amount of Profits/Losses\n",
    "        total_profit = sum(profits)\n",
    "    \n",
    "    #Iterate through the Profits list and calculate the change in profits between each month\n",
    "    for i in range(len(profits)-1):\n",
    "        profit_changes.append(profits[i+1] - profits[i])\n",
    "        "
   ]
  },
  {
   "cell_type": "code",
   "execution_count": 742,
   "id": "e8eab9d4-be4c-403a-9c7c-9076f90562ea",
   "metadata": {},
   "outputs": [],
   "source": [
    "#Calculate the total change in profits\n",
    "for changes in profit_changes:\n",
    "    total_change = total_change + changes"
   ]
  },
  {
   "cell_type": "code",
   "execution_count": 743,
   "id": "df143ad6-4b71-43b5-9cdd-9c83985400dc",
   "metadata": {},
   "outputs": [],
   "source": [
    "#Calcuate the average change over the total number of months less one month\n",
    "average_change = round(total_change / (total_months - 1), 2)"
   ]
  },
  {
   "cell_type": "code",
   "execution_count": 744,
   "id": "e51650e1-6e28-4a3b-9f7b-6779cf90a661",
   "metadata": {},
   "outputs": [],
   "source": [
    "#find the maximum and minimum change and their index in the profit_changes list to find the matching month in months list (It would be the month after asn not the same month)\n",
    "max_change = max(profit_changes)\n",
    "min_change = min(profit_changes)\n",
    "max_month = profit_changes.index(max(profit_changes))+1\n",
    "min_month = profit_changes.index(min(profit_changes))+1"
   ]
  },
  {
   "cell_type": "code",
   "execution_count": 745,
   "id": "b607babc-8d4e-4efc-9a41-93b48745180b",
   "metadata": {},
   "outputs": [],
   "source": [
    "#Format the numbers to insert a ',' at every thousand (,000)\n",
    "total_profit = \"{:,}\".format(total_profit)\n",
    "average_change = \"{:,}\".format(average_change)\n",
    "max_change = \"{:,}\".format(max_change)\n",
    "min_change = \"{:,}\".format(min_change)"
   ]
  },
  {
   "cell_type": "code",
   "execution_count": 746,
   "id": "82bfc369-e173-4240-9af3-23f6a35f6763",
   "metadata": {},
   "outputs": [
    {
     "name": "stdout",
     "output_type": "stream",
     "text": [
      "    Financial Analysis\n",
      "----------------------------\n",
      "Total Months: 86\n",
      "Total: $38,382,578\n",
      "Average Change: $-2,315.12\n",
      "Greatest Increase in Profits: Feb-2012 - $1,926,159\n",
      "Greatest Decrease in Profits: Sep-2013 - $-2,196,167\n"
     ]
    }
   ],
   "source": [
    "#Print Financial Analysis\n",
    "print(\"    Financial Analysis\")\n",
    "print(\"----------------------------\")\n",
    "print(f\"Total Months: {total_months}\")\n",
    "print(f\"Total: ${total_profit}\")\n",
    "print(f\"Average Change: ${average_change}\")\n",
    "print(f\"Greatest Increase in Profits: {months[max_month]} - ${max_change}\")\n",
    "print(f\"Greatest Decrease in Profits: {months[min_month]} - ${min_change}\")"
   ]
  },
  {
   "cell_type": "code",
   "execution_count": 747,
   "id": "968ebf32-33de-4f77-b4ef-b86defd961a0",
   "metadata": {},
   "outputs": [],
   "source": [
    "#Create a text file\n",
    "output_path = Path('financial_analysis.txt')"
   ]
  },
  {
   "cell_type": "code",
   "execution_count": 748,
   "id": "eb8db1f2-61cd-4e5e-b6dd-d8a3e651e453",
   "metadata": {},
   "outputs": [],
   "source": [
    "#Write analysis to text file\n",
    "with open(output_path, 'w') as file:\n",
    "    file.write(\"    Financial Analysis\\n\")\n",
    "    file.write(\"----------------------------\\n\")\n",
    "    file.write(f\"Total Months: {total_months}\\n\")\n",
    "    file.write(f\"Total: ${total_profit}\\n\")\n",
    "    file.write(f\"Average Change: ${average_change}\\n\")\n",
    "    file.write(f\"Greatest Increase in Profits: {months[max_month]} - ${max_change}\\n\")\n",
    "    file.write(f\"Greatest Decrease in Profits: {months[min_month]} - ${min_change}\\n\")"
   ]
  },
  {
   "cell_type": "code",
   "execution_count": 749,
   "id": "3ac6e75f-7d32-463d-9ee0-d7b1bb9b5c9c",
   "metadata": {},
   "outputs": [],
   "source": [
    "#close the file\n",
    "test = file.close"
   ]
  },
  {
   "cell_type": "code",
   "execution_count": null,
   "id": "594e7a26-3413-4b79-b710-0c147d1dee2b",
   "metadata": {},
   "outputs": [],
   "source": []
  }
 ],
 "metadata": {
  "kernelspec": {
   "display_name": "Python 3 (ipykernel)",
   "language": "python",
   "name": "python3"
  },
  "language_info": {
   "codemirror_mode": {
    "name": "ipython",
    "version": 3
   },
   "file_extension": ".py",
   "mimetype": "text/x-python",
   "name": "python",
   "nbconvert_exporter": "python",
   "pygments_lexer": "ipython3",
   "version": "3.9.13"
  }
 },
 "nbformat": 4,
 "nbformat_minor": 5
}
