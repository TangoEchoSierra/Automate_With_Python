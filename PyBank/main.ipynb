{
 "cells": [
  {
   "cell_type": "code",
   "execution_count": 580,
   "id": "f5db1954-50c2-4535-b23c-6959d7e4261d",
   "metadata": {},
   "outputs": [],
   "source": [
    "from pathlib import Path\n",
    "import csv"
   ]
  },
  {
   "cell_type": "code",
   "execution_count": 581,
   "id": "8b681855-bccc-4d19-937b-411e8d015b85",
   "metadata": {},
   "outputs": [
    {
     "name": "stdout",
     "output_type": "stream",
     "text": [
      "Current Working Directory: C:\\Users\\T\\Bootcamp\\Repositories\\python-homework\\PyBank\n"
     ]
    }
   ],
   "source": [
    "print(f\"Current Working Directory: {Path.cwd()}\")"
   ]
  },
  {
   "cell_type": "code",
   "execution_count": 582,
   "id": "c71ecf9a-e4bb-40e2-90df-a0e67279e7eb",
   "metadata": {},
   "outputs": [
    {
     "name": "stdout",
     "output_type": "stream",
     "text": [
      "C:/Users/T/Bootcamp/Repositories/python-homework/PyBank/budget_data.csv\n"
     ]
    }
   ],
   "source": [
    "filepath1 = str(Path.cwd())\n",
    "filepath = filepath1.replace(\"\\\\\",\"/\")\n",
    "filepath = filepath + '/budget_data.csv'\n",
    "print(filepath)"
   ]
  },
  {
   "cell_type": "code",
   "execution_count": 583,
   "id": "5777b203-6c3f-4000-b502-fd066010c181",
   "metadata": {},
   "outputs": [],
   "source": [
    "profits = []\n",
    "months = []\n",
    "dates = []\n",
    "profit_changes = []"
   ]
  },
  {
   "cell_type": "code",
   "execution_count": 584,
   "id": "3ca4e407-5ecb-4b33-adac-4be68d37c308",
   "metadata": {},
   "outputs": [],
   "source": [
    "count = 0\n",
    "total_months = 0\n",
    "total_profit = 0\n",
    "average_change = 0\n",
    "initial_profit = 0\n",
    "min_profit = 0\n",
    "max_profit = \"{:,}\".format(0)\n",
    "total_change = 0"
   ]
  },
  {
   "cell_type": "code",
   "execution_count": 585,
   "id": "cf288926-00e2-4254-b585-47c9fa3b0a06",
   "metadata": {},
   "outputs": [],
   "source": [
    "with open (filepath, 'r') as file:\n",
    "    reader = csv.reader(file, delimiter=',')\n",
    "    header = next(reader)\n",
    "       \n",
    "    for row in reader:\n",
    "        total_months = total_months + 1\n",
    "        total_profit = total_profit + int(row[1])\n",
    "        \n",
    "        months.append(row[0])\n",
    "        profits.append(int(row[1]))\n",
    "                \n",
    "        monthly_profit = int(row[1])\n",
    "        monthly_change = monthly_profit - initial_profit\n",
    "        profit_changes.append(monthly_change)\n",
    "        initial_profit = int(row[1])"
   ]
  },
  {
   "cell_type": "code",
   "execution_count": 586,
   "id": "e8eab9d4-be4c-403a-9c7c-9076f90562ea",
   "metadata": {},
   "outputs": [],
   "source": [
    "for changes in profit_changes:\n",
    "    total_change = total_change + changes"
   ]
  },
  {
   "cell_type": "code",
   "execution_count": 587,
   "id": "edb30581-3374-4e7d-855e-96c1bf469471",
   "metadata": {},
   "outputs": [],
   "source": [
    "min_profit = min(profit_changes)\n",
    "max_profit = max(profit_changes)"
   ]
  },
  {
   "cell_type": "code",
   "execution_count": 588,
   "id": "d4e14c76-1361-4475-bc81-95be06637664",
   "metadata": {},
   "outputs": [],
   "source": [
    "average_change = round(total_change / total_months, 2)"
   ]
  },
  {
   "cell_type": "code",
   "execution_count": 589,
   "id": "b607babc-8d4e-4efc-9a41-93b48745180b",
   "metadata": {},
   "outputs": [],
   "source": [
    "months = \"{:,}\".format(total_months)\n",
    "profit = \"{:,}\".format(total_profit)\n",
    "change = \"{:,}\".format(average_change)\n",
    "maximum = \"{:,}\".format(max_profit)\n",
    "minimum = \"{:,}\".format(min_profit)"
   ]
  },
  {
   "cell_type": "code",
   "execution_count": 590,
   "id": "82bfc369-e173-4240-9af3-23f6a35f6763",
   "metadata": {},
   "outputs": [
    {
     "name": "stdout",
     "output_type": "stream",
     "text": [
      "    Financial Analysis\n",
      "----------------------------\n",
      "Total Months: 86\n",
      "Total: $38,382,578\n",
      "Average Change: $7,803.48\n",
      "Greatest Increase in Profits: $1,926,159\n",
      "Greatest Decrease in Profits: $-2,196,167\n"
     ]
    }
   ],
   "source": [
    "print(\"    Financial Analysis\")\n",
    "print(\"----------------------------\")\n",
    "print(f\"Total Months: {months}\")\n",
    "print(f\"Total: ${profit}\")\n",
    "print(f\"Average Change: ${change}\")\n",
    "print(f\"Greatest Increase in Profits: ${maximum}\")\n",
    "print(f\"Greatest Decrease in Profits: ${minimum}\")"
   ]
  },
  {
   "cell_type": "code",
   "execution_count": 591,
   "id": "968ebf32-33de-4f77-b4ef-b86defd961a0",
   "metadata": {},
   "outputs": [],
   "source": [
    "output_path = Path('output.txt')"
   ]
  },
  {
   "cell_type": "code",
   "execution_count": 592,
   "id": "eb8db1f2-61cd-4e5e-b6dd-d8a3e651e453",
   "metadata": {},
   "outputs": [],
   "source": [
    "with open(output_path, 'w') as file:\n",
    "    file.write(\"    Financial Analysis\\n\")\n",
    "    file.write(\"----------------------------\\n\")\n",
    "    file.write(f\"Total Months: {months}\\n\")\n",
    "    file.write(f\"Total: ${profit}\\n\")\n",
    "    file.write(f\"Average Change: ${change}\\n\")\n",
    "    file.write(f\"Greatest Increase in Profits: ${maximum}\\n\")\n",
    "    file.write(f\"Greatest Decrease in Profits: ${minimum}\\n\")"
   ]
  },
  {
   "cell_type": "code",
   "execution_count": 593,
   "id": "3ac6e75f-7d32-463d-9ee0-d7b1bb9b5c9c",
   "metadata": {},
   "outputs": [],
   "source": [
    "test = file.close"
   ]
  },
  {
   "cell_type": "code",
   "execution_count": null,
   "id": "594e7a26-3413-4b79-b710-0c147d1dee2b",
   "metadata": {},
   "outputs": [],
   "source": []
  }
 ],
 "metadata": {
  "kernelspec": {
   "display_name": "Python 3 (ipykernel)",
   "language": "python",
   "name": "python3"
  },
  "language_info": {
   "codemirror_mode": {
    "name": "ipython",
    "version": 3
   },
   "file_extension": ".py",
   "mimetype": "text/x-python",
   "name": "python",
   "nbconvert_exporter": "python",
   "pygments_lexer": "ipython3",
   "version": "3.9.13"
  }
 },
 "nbformat": 4,
 "nbformat_minor": 5
}
