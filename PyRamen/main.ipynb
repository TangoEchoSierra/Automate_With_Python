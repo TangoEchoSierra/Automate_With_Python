{
 "cells": [
  {
   "cell_type": "code",
   "execution_count": 100,
   "id": "15487a40-aea5-48b8-ab9d-1f9f87fb5d95",
   "metadata": {},
   "outputs": [],
   "source": [
    "import csv\n",
    "from pathlib import Path"
   ]
  },
  {
   "cell_type": "code",
   "execution_count": 101,
   "id": "89d105c7-28c5-4780-8a4e-ef374768f72e",
   "metadata": {},
   "outputs": [
    {
     "name": "stdout",
     "output_type": "stream",
     "text": [
      "Current Working Directory: C:\\Users\\T\\Bootcamp\\Repositories\\python-homework\\PyRamen\n"
     ]
    }
   ],
   "source": [
    "print(f\"Current Working Directory: {Path.cwd()}\")"
   ]
  },
  {
   "cell_type": "code",
   "execution_count": 102,
   "id": "cb70a14c-4fdd-4cba-8dbf-a2b2150eb746",
   "metadata": {},
   "outputs": [
    {
     "name": "stdout",
     "output_type": "stream",
     "text": [
      "C:/Users/T/Bootcamp/Repositories/python-homework/PyRamen/menu_data.csv\n",
      "C:/Users/T/Bootcamp/Repositories/python-homework/PyRamen/sales_data.csv\n"
     ]
    }
   ],
   "source": [
    "filepath1 = str(Path.cwd())\n",
    "filepath = filepath1.replace(\"\\\\\",\"/\")\n",
    "menu_filepath = filepath + '/menu_data.csv'\n",
    "sales_filepath = filepath + '/sales_data.csv'\n",
    "print(menu_filepath)\n",
    "print(sales_filepath)"
   ]
  },
  {
   "cell_type": "code",
   "execution_count": 103,
   "id": "4c4731e1-385b-43da-ad5e-709a21563b93",
   "metadata": {},
   "outputs": [],
   "source": [
    "menu = []\n",
    "sales = []\n",
    "report = {}\n",
    "row_count = 0"
   ]
  },
  {
   "cell_type": "code",
   "execution_count": 104,
   "id": "7fdf7afc-9e55-4dad-b848-274122409e8a",
   "metadata": {},
   "outputs": [],
   "source": [
    "with open(menu_filepath, 'r') as menu_file:\n",
    "    reader = csv.reader(menu_file, delimiter=',')\n",
    "    header = next(reader)\n",
    "    \n",
    "    for row in reader:\n",
    "        menu.append(row)"
   ]
  },
  {
   "cell_type": "code",
   "execution_count": 105,
   "id": "9737114d-b26b-46f8-b727-b2de323ee6dd",
   "metadata": {},
   "outputs": [],
   "source": [
    "with open(sales_filepath, 'r') as sales_file:\n",
    "    reader = csv.reader(sales_file, delimiter=',')\n",
    "    header = next(reader)\n",
    "        \n",
    "    for row in reader:\n",
    "        sales.append(row)    "
   ]
  },
  {
   "cell_type": "code",
   "execution_count": 106,
   "id": "52a58fb6-4af4-47c2-9441-ca3b57a629c0",
   "metadata": {},
   "outputs": [],
   "source": [
    "for row in sales:\n",
    "    quantity = int(row[3])\n",
    "    menu_item = row[4]\n",
    "    \n",
    "    if menu_item not in report.keys():\n",
    "        report[menu_item] = {\n",
    "            \"01-Count\": 0,\n",
    "            \"02-Revenue\": 0,\n",
    "            \"03-Cogs\":0,\n",
    "            \"04-Profit\": 0, \n",
    "        }\n",
    "\n",
    "    for menuitem in menu:\n",
    "        item = menuitem[0]\n",
    "        price = float(menuitem[3])\n",
    "        cost = float(menuitem[4])\n",
    "    \n",
    "        profit = price - cost\n",
    "    \n",
    "        if menu_item == item:\n",
    "            report[menu_item][\"01-Count\"] += quantity\n",
    "            report[menu_item][\"02-Revenue\"] += price * quantity\n",
    "            report[menu_item][\"03-Cogs\"] += cost * quantity\n",
    "            report[menu_item][\"04-Profit\"] += profit * quantity\n",
    "        else:\n",
    "            continue\n",
    "            \n",
    "    row_count += 1"
   ]
  },
  {
   "cell_type": "code",
   "execution_count": 107,
   "id": "f6b09be4-d28a-4b8e-aa3d-b01f6101e7f6",
   "metadata": {},
   "outputs": [],
   "source": [
    "output_path = Path('ramen_output.txt')"
   ]
  },
  {
   "cell_type": "code",
   "execution_count": 108,
   "id": "9785e997-24e6-4a47-bfe4-27a204bf75fd",
   "metadata": {},
   "outputs": [],
   "source": [
    "with open(output_path, 'w') as file:\n",
    "    file.write(\"The Financial Report for PyRamen.\\n\")\n",
    "    for key in report:\n",
    "        file.write(f\"{key} {report[key]} \\n\")"
   ]
  },
  {
   "cell_type": "code",
   "execution_count": 109,
   "id": "4b7a99bb-b849-40aa-8a40-988f896a6d8c",
   "metadata": {},
   "outputs": [],
   "source": [
    "test = file.close"
   ]
  },
  {
   "cell_type": "code",
   "execution_count": null,
   "id": "fa80e412-747d-4cb4-9f90-11a698ed9f93",
   "metadata": {},
   "outputs": [],
   "source": []
  }
 ],
 "metadata": {
  "kernelspec": {
   "display_name": "Python 3 (ipykernel)",
   "language": "python",
   "name": "python3"
  },
  "language_info": {
   "codemirror_mode": {
    "name": "ipython",
    "version": 3
   },
   "file_extension": ".py",
   "mimetype": "text/x-python",
   "name": "python",
   "nbconvert_exporter": "python",
   "pygments_lexer": "ipython3",
   "version": "3.9.13"
  }
 },
 "nbformat": 4,
 "nbformat_minor": 5
}
