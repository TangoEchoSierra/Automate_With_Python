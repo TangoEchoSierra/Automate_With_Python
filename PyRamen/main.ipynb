{
 "cells": [
  {
   "cell_type": "code",
   "execution_count": 106,
   "id": "15487a40-aea5-48b8-ab9d-1f9f87fb5d95",
   "metadata": {},
   "outputs": [],
   "source": [
    "import csv\n",
    "from pathlib import Path"
   ]
  },
  {
   "cell_type": "code",
   "execution_count": 107,
   "id": "89d105c7-28c5-4780-8a4e-ef374768f72e",
   "metadata": {},
   "outputs": [
    {
     "name": "stdout",
     "output_type": "stream",
     "text": [
      "Current Working Directory: C:\\Users\\T\\Bootcamp\\Repositories\\python-homework\\PyRamen\n"
     ]
    }
   ],
   "source": [
    "print(f\"Current Working Directory: {Path.cwd()}\")"
   ]
  },
  {
   "cell_type": "code",
   "execution_count": 119,
   "id": "cb70a14c-4fdd-4cba-8dbf-a2b2150eb746",
   "metadata": {},
   "outputs": [
    {
     "name": "stdout",
     "output_type": "stream",
     "text": [
      "C:/Users/T/Bootcamp/Repositories/python-homework/PyRamen/menu_data.csv\n",
      "C:/Users/T/Bootcamp/Repositories/python-homework/PyRamen/sales_data.csv\n"
     ]
    }
   ],
   "source": [
    "filepath1 = str(Path.cwd())\n",
    "filepath = filepath1.replace(\"\\\\\",\"/\")\n",
    "menu_filepath = filepath + '/menu_data.csv'\n",
    "sales_filepath = filepath + '/sales_data.csv'\n",
    "print(menu_filepath)\n",
    "print(sales_filepath)"
   ]
  },
  {
   "cell_type": "code",
   "execution_count": 129,
   "id": "4c4731e1-385b-43da-ad5e-709a21563b93",
   "metadata": {},
   "outputs": [],
   "source": [
    "menu = []\n",
    "sales = []\n",
    "report = {}\n",
    "row_count = 0"
   ]
  },
  {
   "cell_type": "code",
   "execution_count": 130,
   "id": "7fdf7afc-9e55-4dad-b848-274122409e8a",
   "metadata": {},
   "outputs": [],
   "source": [
    "with open(menu_filepath, 'r') as menu_file:\n",
    "    reader = csv.reader(menu_file, delimiter=',')\n",
    "    #header = next(reader)\n",
    "    \n",
    "    for row in reader:\n",
    "        menu.append(row)"
   ]
  },
  {
   "cell_type": "code",
   "execution_count": 131,
   "id": "9737114d-b26b-46f8-b727-b2de323ee6dd",
   "metadata": {},
   "outputs": [],
   "source": [
    "with open(sales_filepath, 'r') as sales_file:\n",
    "    reader = csv.reader(sales_file, delimiter=',')\n",
    "    #header = next(reader)\n",
    "        \n",
    "    for row in reader:\n",
    "        sales.append(row)    "
   ]
  },
  {
   "cell_type": "code",
   "execution_count": 146,
   "id": "52a58fb6-4af4-47c2-9441-ca3b57a629c0",
   "metadata": {},
   "outputs": [
    {
     "ename": "ValueError",
     "evalue": "invalid literal for int() with base 10: 'Quantity'",
     "output_type": "error",
     "traceback": [
      "\u001b[1;31m---------------------------------------------------------------------------\u001b[0m",
      "\u001b[1;31mValueError\u001b[0m                                Traceback (most recent call last)",
      "\u001b[1;32m~\\AppData\\Local\\Temp\\ipykernel_22776\\1165683522.py\u001b[0m in \u001b[0;36m<module>\u001b[1;34m\u001b[0m\n\u001b[0;32m      3\u001b[0m     \u001b[0mdate\u001b[0m \u001b[1;33m=\u001b[0m \u001b[0mrow\u001b[0m\u001b[1;33m[\u001b[0m\u001b[1;36m1\u001b[0m\u001b[1;33m]\u001b[0m\u001b[1;33m\u001b[0m\u001b[1;33m\u001b[0m\u001b[0m\n\u001b[0;32m      4\u001b[0m     \u001b[0mcredit_card\u001b[0m \u001b[1;33m=\u001b[0m \u001b[0mrow\u001b[0m\u001b[1;33m[\u001b[0m\u001b[1;36m2\u001b[0m\u001b[1;33m]\u001b[0m\u001b[1;33m\u001b[0m\u001b[1;33m\u001b[0m\u001b[0m\n\u001b[1;32m----> 5\u001b[1;33m     \u001b[0mquatity\u001b[0m \u001b[1;33m=\u001b[0m \u001b[0mint\u001b[0m\u001b[1;33m(\u001b[0m\u001b[0mrow\u001b[0m\u001b[1;33m[\u001b[0m\u001b[1;36m3\u001b[0m\u001b[1;33m]\u001b[0m\u001b[1;33m)\u001b[0m\u001b[1;33m\u001b[0m\u001b[1;33m\u001b[0m\u001b[0m\n\u001b[0m\u001b[0;32m      6\u001b[0m     \u001b[0mmenu_item\u001b[0m \u001b[1;33m=\u001b[0m \u001b[0mrow\u001b[0m\u001b[1;33m[\u001b[0m\u001b[1;36m4\u001b[0m\u001b[1;33m]\u001b[0m\u001b[1;33m\u001b[0m\u001b[1;33m\u001b[0m\u001b[0m\n\u001b[0;32m      7\u001b[0m \u001b[1;33m\u001b[0m\u001b[0m\n",
      "\u001b[1;31mValueError\u001b[0m: invalid literal for int() with base 10: 'Quantity'"
     ]
    }
   ],
   "source": [
    "for row in sales:\n",
    "    line_item_id = row[0]\n",
    "    date = row[1]\n",
    "    credit_card = row[2]\n",
    "    quatity = int(row[3])\n",
    "    menu_item = row[4]\n",
    "    \n",
    "    if menu_item not in report.keys():\n",
    "        report[menu_item] = {\n",
    "            \"01-Count\": 0,\n",
    "            \"02-Revenue\": 0,\n",
    "            \"03-Cogs\":0,\n",
    "            \"04-Profit\": 0, \n",
    "        }\n",
    "\n",
    "    for fooditem in menu:\n",
    "        item = row[0]\n",
    "        category = row[1]\n",
    "        description = row[2]\n",
    "        price = float(row[3])\n",
    "        cost = float(row[4])\n",
    "    \n",
    "        profit = price - cost\n",
    "    \n",
    "        if menu_item == item:\n",
    "            print(fooditem)\n",
    "            report[menu_item][\"01-Count\"] += quantity\n",
    "            report[menu_item][\"02-Revenue\"] += price * quantity\n",
    "            report[menu_item][\"03-Cogs\"] += cost * quantity\n",
    "            report[menu_item][\"04-Profit\"] += profit * quantity\n",
    "        else:\n",
    "            continue\n",
    "            \n",
    "    row_count += 1"
   ]
  },
  {
   "cell_type": "code",
   "execution_count": null,
   "id": "f146718d-c741-4bfe-9282-d0ff8b005af0",
   "metadata": {},
   "outputs": [],
   "source": []
  }
 ],
 "metadata": {
  "kernelspec": {
   "display_name": "Python 3 (ipykernel)",
   "language": "python",
   "name": "python3"
  },
  "language_info": {
   "codemirror_mode": {
    "name": "ipython",
    "version": 3
   },
   "file_extension": ".py",
   "mimetype": "text/x-python",
   "name": "python",
   "nbconvert_exporter": "python",
   "pygments_lexer": "ipython3",
   "version": "3.9.13"
  }
 },
 "nbformat": 4,
 "nbformat_minor": 5
}
