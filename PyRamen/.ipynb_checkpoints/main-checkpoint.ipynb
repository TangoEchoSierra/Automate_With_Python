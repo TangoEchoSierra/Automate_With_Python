{
 "cells": [
  {
   "cell_type": "code",
   "execution_count": 71,
   "id": "15487a40-aea5-48b8-ab9d-1f9f87fb5d95",
   "metadata": {},
   "outputs": [],
   "source": [
    "import csv\n",
    "from pathlib import Path"
   ]
  },
  {
   "cell_type": "code",
   "execution_count": 72,
   "id": "89d105c7-28c5-4780-8a4e-ef374768f72e",
   "metadata": {},
   "outputs": [
    {
     "name": "stdout",
     "output_type": "stream",
     "text": [
      "Current Working Directory: C:\\Users\\T\\Bootcamp\\Repositories\\python-homework\\PyRamen\n"
     ]
    }
   ],
   "source": [
    "print(f\"Current Working Directory: {Path.cwd()}\")"
   ]
  },
  {
   "cell_type": "code",
   "execution_count": 99,
   "id": "cb70a14c-4fdd-4cba-8dbf-a2b2150eb746",
   "metadata": {},
   "outputs": [
    {
     "name": "stdout",
     "output_type": "stream",
     "text": [
      "C:/Users/T/Bootcamp/Repositories/python-homework/PyRamen/menu_data.csv\n",
      "C:/Users/T/Bootcamp/Repositories/python-homework/PyRamen/sales_data.csv\n"
     ]
    }
   ],
   "source": [
    "filepath1 = str(Path.cwd())\n",
    "filepath = filepath1.replace(\"\\\\\",\"/\")\n",
    "menu_filepath = filepath + '/menu_data.csv'\n",
    "sales_filepath = filepath + '/sales_data.csv'\n",
    "print(menu_filepath)\n",
    "print(sales_filepath)"
   ]
  },
  {
   "cell_type": "code",
   "execution_count": 100,
   "id": "4c4731e1-385b-43da-ad5e-709a21563b93",
   "metadata": {},
   "outputs": [],
   "source": [
    "menu = []\n",
    "sales = []\n",
    "report = {}\n",
    "row_count = 0\n",
    "quantity = int(0)"
   ]
  },
  {
   "cell_type": "code",
   "execution_count": 101,
   "id": "7fdf7afc-9e55-4dad-b848-274122409e8a",
   "metadata": {},
   "outputs": [],
   "source": [
    "with open(menu_filepath, 'r') as menu_file:\n",
    "    reader = csv.reader(menu_file, delimiter=',')\n",
    "    #header = next(reader)\n",
    "    \n",
    "    for row in reader:\n",
    "        menu.append(row)"
   ]
  },
  {
   "cell_type": "code",
   "execution_count": 102,
   "id": "9737114d-b26b-46f8-b727-b2de323ee6dd",
   "metadata": {},
   "outputs": [],
   "source": [
    "with open(sales_filepath, 'r') as sales_file:\n",
    "    reader = csv.reader(sales_file, delimiter=',')\n",
    "    #header = next(reader)\n",
    "        \n",
    "    for row in reader:\n",
    "        sales.append(row)    "
   ]
  },
  {
   "cell_type": "code",
   "execution_count": 103,
   "id": "52a58fb6-4af4-47c2-9441-ca3b57a629c0",
   "metadata": {},
   "outputs": [],
   "source": [
    "for row in sales:\n",
    "    line_item_id = row[0]\n",
    "    date = row[1]\n",
    "    credit_card_number = row[2]\n",
    "    quatity = int(row[3])\n",
    "    menu_item = row[4]\n",
    "    \n",
    "    if menu_item not in report.keys():\n",
    "        report[menu_item] = {\n",
    "            \"01-Count\": 0,\n",
    "            \"02-Revenue\": 0,\n",
    "            \"03-Cogs\":0,\n",
    "            \"04-Profit\": 0, \n",
    "        }\n"
   ]
  },
  {
   "cell_type": "code",
   "execution_count": 104,
   "id": "72a1eab4-ae63-4b86-af3f-2827a28ee1af",
   "metadata": {},
   "outputs": [],
   "source": [
    "price = float(0)\n",
    "coast = float(0)\n",
    "\n",
    "for row in menu:\n",
    "    menu_item = row[0]\n",
    "    category = row[1]\n",
    "    description = row[2]\n",
    "    price = float(row[3])\n",
    "    cost = float(row[4])"
   ]
  },
  {
   "cell_type": "code",
   "execution_count": 105,
   "id": "9a9e5699-f635-40ba-8d4f-36ca0c679c9c",
   "metadata": {},
   "outputs": [
    {
     "ename": "TypeError",
     "evalue": "unsupported operand type(s) for -: 'str' and 'str'",
     "output_type": "error",
     "traceback": [
      "\u001b[1;31m---------------------------------------------------------------------------\u001b[0m",
      "\u001b[1;31mTypeError\u001b[0m                                 Traceback (most recent call last)",
      "\u001b[1;32m~\\AppData\\Local\\Temp\\ipykernel_22776\\1796545311.py\u001b[0m in \u001b[0;36m<module>\u001b[1;34m\u001b[0m\n\u001b[1;32m----> 1\u001b[1;33m \u001b[0mprofit\u001b[0m \u001b[1;33m=\u001b[0m \u001b[0mprice\u001b[0m \u001b[1;33m-\u001b[0m \u001b[0mcost\u001b[0m\u001b[1;33m\u001b[0m\u001b[1;33m\u001b[0m\u001b[0m\n\u001b[0m",
      "\u001b[1;31mTypeError\u001b[0m: unsupported operand type(s) for -: 'str' and 'str'"
     ]
    }
   ],
   "source": [
    "profit = price - cost"
   ]
  },
  {
   "cell_type": "code",
   "execution_count": null,
   "id": "0c145037-4424-43e7-a46f-8b0452d8cd6a",
   "metadata": {},
   "outputs": [],
   "source": []
  }
 ],
 "metadata": {
  "kernelspec": {
   "display_name": "Python 3 (ipykernel)",
   "language": "python",
   "name": "python3"
  },
  "language_info": {
   "codemirror_mode": {
    "name": "ipython",
    "version": 3
   },
   "file_extension": ".py",
   "mimetype": "text/x-python",
   "name": "python",
   "nbconvert_exporter": "python",
   "pygments_lexer": "ipython3",
   "version": "3.9.13"
  }
 },
 "nbformat": 4,
 "nbformat_minor": 5
}
