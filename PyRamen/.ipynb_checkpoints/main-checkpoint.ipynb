{
 "cells": [
  {
   "cell_type": "code",
   "execution_count": 52,
   "id": "15487a40-aea5-48b8-ab9d-1f9f87fb5d95",
   "metadata": {},
   "outputs": [],
   "source": [
    "#Import dependecies\n",
    "import csv\n",
    "from pathlib import Path"
   ]
  },
  {
   "cell_type": "code",
   "execution_count": 53,
   "id": "89d105c7-28c5-4780-8a4e-ef374768f72e",
   "metadata": {},
   "outputs": [
    {
     "name": "stdout",
     "output_type": "stream",
     "text": [
      "Current Working Directory: C:\\Users\\T\\Bootcamp\\Repositories\\python-homework\\PyRamen\n"
     ]
    }
   ],
   "source": [
    "#View the current working directory\n",
    "print(f\"Current Working Directory: {Path.cwd()}\")"
   ]
  },
  {
   "cell_type": "code",
   "execution_count": 54,
   "id": "cb70a14c-4fdd-4cba-8dbf-a2b2150eb746",
   "metadata": {},
   "outputs": [],
   "source": [
    "#Declare the location of the csv files and chenge all backslashes to forward slashes in the file path\n",
    "filepath = str(Path.cwd())\n",
    "filepath = filepath.replace(\"\\\\\",\"/\")\n",
    "menu_filepath = filepath + '/menu_data.csv'\n",
    "sales_filepath = filepath + '/sales_data.csv'"
   ]
  },
  {
   "cell_type": "code",
   "execution_count": 55,
   "id": "4c4731e1-385b-43da-ad5e-709a21563b93",
   "metadata": {},
   "outputs": [],
   "source": [
    "#Create empty lists\n",
    "menu = []\n",
    "sales = []\n",
    "report = {}"
   ]
  },
  {
   "cell_type": "code",
   "execution_count": 56,
   "id": "7fdf7afc-9e55-4dad-b848-274122409e8a",
   "metadata": {},
   "outputs": [],
   "source": [
    "#Open the Menu csv file in read mode\n",
    "with open(menu_filepath, 'r') as menu_file:\n",
    "    reader = csv.reader(menu_file, delimiter=',')\n",
    "    header = next(reader)\n",
    "    \n",
    "    #Iterate through each row and copy csv data into the Menu list\n",
    "    for row in reader:\n",
    "        menu.append(row)"
   ]
  },
  {
   "cell_type": "code",
   "execution_count": 57,
   "id": "9737114d-b26b-46f8-b727-b2de323ee6dd",
   "metadata": {},
   "outputs": [],
   "source": [
    "#Open the Sales csv file in read mode\n",
    "with open(sales_filepath, 'r') as sales_file:\n",
    "    reader = csv.reader(sales_file, delimiter=',')\n",
    "    header = next(reader)\n",
    "    \n",
    "    #Iterate through each row and copy csv data into the Sales list\n",
    "    for row in reader:\n",
    "        sales.append(row)    "
   ]
  },
  {
   "cell_type": "code",
   "execution_count": 58,
   "id": "52a58fb6-4af4-47c2-9441-ca3b57a629c0",
   "metadata": {},
   "outputs": [],
   "source": [
    "#Iterate through Quantity and Menu Items Sales list by assigning the corresponding columns\n",
    "for row in sales:\n",
    "    quantity = int(row[3])\n",
    "    menu_item = row[4]\n",
    "    \n",
    "    #Assign keys to the Mune Items in the dictionary\n",
    "    if menu_item not in report.keys():\n",
    "        report[menu_item] = {\n",
    "            \"01-Count\": 0,\n",
    "            \"02-Revenue\": 0,\n",
    "            \"03-Cogs\":0,\n",
    "            \"04-Profit\": 0,  \n",
    "        }\n",
    "    \n",
    "    #Iterate through Menu Items, Price and Cost in the Menu list by assigning the corresponding columns\n",
    "    for menuitem in menu:\n",
    "        item = menuitem[0]\n",
    "        price = float(menuitem[3])\n",
    "        cost = float(menuitem[4])\n",
    "        \n",
    "        #Calculate the profit for each Menu Item\n",
    "        profit = price - cost\n",
    "        \n",
    "        #Assign the values to each key for each Menu Item\n",
    "        if menu_item == item:\n",
    "            report[menu_item][\"01-Count\"] += quantity\n",
    "            report[menu_item][\"02-Revenue\"] += price * quantity\n",
    "            report[menu_item][\"03-Cogs\"] += cost * quantity\n",
    "            report[menu_item][\"04-Profit\"] += profit * quantity\n",
    "        else:\n",
    "            continue"
   ]
  },
  {
   "cell_type": "code",
   "execution_count": 59,
   "id": "f6b09be4-d28a-4b8e-aa3d-b01f6101e7f6",
   "metadata": {},
   "outputs": [],
   "source": [
    "#Create a text file\n",
    "output_path = Path('ramen_financial_report.txt')"
   ]
  },
  {
   "cell_type": "code",
   "execution_count": 60,
   "id": "9785e997-24e6-4a47-bfe4-27a204bf75fd",
   "metadata": {},
   "outputs": [],
   "source": [
    "#Write analysis to text file\n",
    "with open(output_path, 'w') as file:\n",
    "    file.write(\"            The Financial Report for PyRamen.       \\n\")\n",
    "    file.write(\"------------------------------------------------------\\n\")\n",
    "    for key in report:\n",
    "        file.write(f\"{key} {report[key]} \\n\")"
   ]
  },
  {
   "cell_type": "code",
   "execution_count": 61,
   "id": "4b7a99bb-b849-40aa-8a40-988f896a6d8c",
   "metadata": {},
   "outputs": [],
   "source": [
    "#Close file\n",
    "test = file.close"
   ]
  },
  {
   "cell_type": "code",
   "execution_count": null,
   "id": "fa80e412-747d-4cb4-9f90-11a698ed9f93",
   "metadata": {},
   "outputs": [],
   "source": []
  }
 ],
 "metadata": {
  "kernelspec": {
   "display_name": "Python 3 (ipykernel)",
   "language": "python",
   "name": "python3"
  },
  "language_info": {
   "codemirror_mode": {
    "name": "ipython",
    "version": 3
   },
   "file_extension": ".py",
   "mimetype": "text/x-python",
   "name": "python",
   "nbconvert_exporter": "python",
   "pygments_lexer": "ipython3",
   "version": "3.9.13"
  }
 },
 "nbformat": 4,
 "nbformat_minor": 5
}
